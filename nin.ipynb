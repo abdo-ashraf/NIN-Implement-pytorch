{
 "cells": [
  {
   "cell_type": "code",
   "execution_count": 1,
   "metadata": {},
   "outputs": [],
   "source": [
    "import torch\n",
    "from torch import nn"
   ]
  },
  {
   "cell_type": "code",
   "execution_count": 2,
   "metadata": {},
   "outputs": [],
   "source": [
    "class MLPCONV(nn.Module):\n",
    "    def __init__(self, in_channels, out_channels, kernal_size, stride, padding):\n",
    "        super().__init__()\n",
    "\n",
    "        self.mlpconv_block = nn.Sequential(nn.Conv2d(in_channels, out_channels, kernal_size, stride, padding), nn.ReLU(),\n",
    "                                            nn.Conv2d(out_channels, out_channels, kernel_size=(1,1)), nn.ReLU(),\n",
    "                                            nn.Conv2d(out_channels, out_channels, kernel_size=(1,1)), nn.ReLU())\n",
    "    \n",
    "    def forward(self, x):\n",
    "        return self.mlpconv_block(x)\n"
   ]
  },
  {
   "cell_type": "code",
   "execution_count": 3,
   "metadata": {},
   "outputs": [],
   "source": [
    "class NIN(nn.Module):\n",
    "    def __init__(self, in_channels, out_classes):\n",
    "        super().__init__()\n",
    "        self.ninblock1 = MLPCONV(in_channels, 96, kernal_size=11, stride=4, padding=0)\n",
    "        self.mp1 = nn.MaxPool2d(kernel_size=3, stride=2)\n",
    "        \n",
    "        self.ninblock2 = MLPCONV(96, 256, kernal_size=5, stride=1, padding=2)\n",
    "        self.mp2 = nn.MaxPool2d(kernel_size=3, stride=2)\n",
    "\n",
    "        self.ninblock3 = MLPCONV(256, 384, kernal_size=3, stride=1, padding=1)\n",
    "        self.mp3 = nn.MaxPool2d(kernel_size=3, stride=2)\n",
    "\n",
    "        self.dp = nn.Dropout2d(0.5)\n",
    "\n",
    "        self.ninblock4 = MLPCONV(384, out_classes, kernal_size=3, stride=1, padding=1)\n",
    "        self.avgpool = nn.AdaptiveAvgPool2d((1,1))\n",
    "        self.flat = nn.Flatten()\n",
    "\n",
    "    def forward(self, x):\n",
    "        x = self.ninblock1(x)\n",
    "        x = self.mp1(x)\n",
    "        \n",
    "        x = self.ninblock2(x)\n",
    "        x = self.mp2(x)\n",
    "\n",
    "        x = self.ninblock3(x)\n",
    "        x = self.mp3(x)\n",
    "\n",
    "        x = self.dp(x)\n",
    "\n",
    "        x = self.ninblock4(x)\n",
    "        x = self.avgpool(x)\n",
    "        x = self.flat(x)\n",
    "\n",
    "        return x"
   ]
  },
  {
   "cell_type": "code",
   "execution_count": 4,
   "metadata": {},
   "outputs": [
    {
     "data": {
      "text/plain": [
       "torch.Size([32, 100])"
      ]
     },
     "execution_count": 4,
     "metadata": {},
     "output_type": "execute_result"
    }
   ],
   "source": [
    "nin_model = NIN(3, 100)\n",
    "x_dumb = torch.randn(32, 3, 224, 224)\n",
    "y_dumb = nin_model(x_dumb)\n",
    "y_dumb.shape"
   ]
  }
 ],
 "metadata": {
  "kernelspec": {
   "display_name": "Python 3",
   "language": "python",
   "name": "python3"
  },
  "language_info": {
   "codemirror_mode": {
    "name": "ipython",
    "version": 3
   },
   "file_extension": ".py",
   "mimetype": "text/x-python",
   "name": "python",
   "nbconvert_exporter": "python",
   "pygments_lexer": "ipython3",
   "version": "3.11.9"
  }
 },
 "nbformat": 4,
 "nbformat_minor": 2
}
